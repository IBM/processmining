{
 "cells": [
  {
   "cell_type": "code",
   "execution_count": 1,
   "metadata": {},
   "outputs": [
    {
     "name": "stdout",
     "output_type": "stream",
     "text": [
      "2023-01-07 18:52:54\n",
      "2022-05-30 18:52:54\n",
      "2022-05-30T18:52:54\n"
     ]
    }
   ],
   "source": [
    "import time\n",
    "from datetime import datetime as dt, timedelta\n",
    "import random\n",
    "\n",
    "d = \"2023-01-07T18:52:54\"\n",
    "t = time.strptime(d, \"%Y-%m-%dT%H:%M:%S\")\n",
    "deltadays = timedelta(days=random.randint(-365,0))\n",
    "dd = dt.strptime(d,\"%Y-%m-%dT%H:%M:%S\")\n",
    "print(dd)\n",
    "ddd = dd+deltadays\n",
    "print(ddd)\n",
    "print(dt.strftime(ddd, \"%Y-%m-%dT%H:%M:%S\"))"
   ]
  },
  {
   "cell_type": "code",
   "execution_count": 44,
   "metadata": {},
   "outputs": [],
   "source": [
    "from datetime import datetime as dt, timedelta\n",
    "# Correct date format errors present in the original file\n",
    "def change_the_date(thedate, addDays) : # thedate is a string 2023-01-07T18:52:54\n",
    "    # create a date\n",
    "    date = dt.strptime(thedate,\"%Y-%m-%dT%H:%M:%S\")\n",
    "    delta = timedelta(days=addDays)\n",
    "    date = date+delta\n",
    "    # return the string\n",
    "    return dt.strftime(date, \"%Y-%m-%dT%H:%M:%S\")"
   ]
  },
  {
   "cell_type": "code",
   "execution_count": 47,
   "metadata": {},
   "outputs": [
    {
     "data": {
      "text/plain": [
       "'2022-10-09T18:52:54'"
      ]
     },
     "execution_count": 47,
     "metadata": {},
     "output_type": "execute_result"
    }
   ],
   "source": [
    "change_the_date(\"2023-01-07T18:52:54\", -3)"
   ]
  },
  {
   "cell_type": "code",
   "execution_count": null,
   "metadata": {},
   "outputs": [],
   "source": [
    "# when using df.apply:\n",
    "# df['EVENTTIME'] = df['EVENTTIME'].apply(change_the_date,addDays=shiftDays)\n",
    "\n"
   ]
  },
  {
   "cell_type": "code",
   "execution_count": 7,
   "metadata": {},
   "outputs": [
    {
     "data": {
      "text/plain": [
       "'15_03_2024_10_43_25'"
      ]
     },
     "execution_count": 7,
     "metadata": {},
     "output_type": "execute_result"
    }
   ],
   "source": [
    "from datetime import datetime\n",
    "\n",
    "now = datetime.now()\n",
    "now.strftime(\"%d_%m_%Y_%H_%M_%S\")"
   ]
  },
  {
   "cell_type": "code",
   "execution_count": 3,
   "metadata": {},
   "outputs": [
    {
     "data": {
      "text/plain": [
       "datetime.datetime(2018, 12, 31, 15, 57, 44)"
      ]
     },
     "execution_count": 3,
     "metadata": {},
     "output_type": "execute_result"
    }
   ],
   "source": [
    "from datetime import datetime as dt\n",
    "dt.fromtimestamp(1546268264000.0/1000)\n"
   ]
  }
 ],
 "metadata": {
  "kernelspec": {
   "display_name": "Python 3",
   "language": "python",
   "name": "python3"
  },
  "language_info": {
   "codemirror_mode": {
    "name": "ipython",
    "version": 3
   },
   "file_extension": ".py",
   "mimetype": "text/x-python",
   "name": "python",
   "nbconvert_exporter": "python",
   "pygments_lexer": "ipython3",
   "version": "3.10.5"
  },
  "orig_nbformat": 4,
  "vscode": {
   "interpreter": {
    "hash": "aee8b7b246df8f9039afb4144a1f6fd8d2ca17a180786b69acc140d282b71a49"
   }
  }
 },
 "nbformat": 4,
 "nbformat_minor": 2
}

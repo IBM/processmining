{
 "cells": [
  {
   "cell_type": "markdown",
   "metadata": {},
   "source": [
    "# Integrate IBM Process Mining data into IBM Cognos Analytics\n",
    "\n",
    "In most cases, our clients will be using the Dashboard (Analytics) capabilities of IBM Process Mining to broadcast relevant process mining information to managers and employees.\n",
    "\n",
    "They are also typically using extensively a Business Intelligence solution, such as IBM Cognos Analytics, and they can consider that apart from business analysts and process owners, regular employees who are participating in the business process execution should preferably keep using the enterprise BI solution.\n",
    "\n",
    "The following python code shows how we can extract relevant information from IBM Process Mining, and how we can upload this information into IBM Cognos Analytics to create appealing dashboards.\n",
    "\n",
    "The process is the following:\n",
    "\n",
    "- get information from IBM Process Mining by using the IPMClient python library. The information retrieved is a json dict.\n",
    "- transform the json dict into a Pandas dataframe. Sometimes, we need to flatten the json dict and to rename/transform some columns.\n",
    "- save the resulting transformation into a CSV file\n",
    "- upload the CSV file into IBM Cognos Analytics by using the cognos python library\n",
    "\n",
    "## Get the data from Process Mining\n"
   ]
  },
  {
   "cell_type": "code",
   "execution_count": 2,
   "metadata": {},
   "outputs": [
    {
     "name": "stdout",
     "output_type": "stream",
     "text": [
      "--Process Mining: REST API called for: get token : status code : 200\n",
      "--Process Mining: REST API called for: retrieve projects : status code : 200\n",
      "--Process Mining: REST API called for: retrieve model-statistics : status code : 200\n",
      "--Process Mining: REST API called for: retrieve dashboards : status code : 200\n"
     ]
    },
    {
     "ename": "AttributeError",
     "evalue": "'Project' object has no attribute 'organization'",
     "output_type": "error",
     "traceback": [
      "\u001b[0;31m---------------------------------------------------------------------------\u001b[0m",
      "\u001b[0;31mAttributeError\u001b[0m                            Traceback (most recent call last)",
      "Cell \u001b[0;32mIn[2], line 41\u001b[0m\n\u001b[1;32m     38\u001b[0m transitionStats_df\u001b[38;5;241m.\u001b[39mto_csv(\u001b[38;5;124m'\u001b[39m\u001b[38;5;124mtransitionStats.csv\u001b[39m\u001b[38;5;124m'\u001b[39m, index\u001b[38;5;241m=\u001b[39m\u001b[38;5;28;01mNone\u001b[39;00m)\n\u001b[1;32m     40\u001b[0m dashboard \u001b[38;5;241m=\u001b[39m ipmProject\u001b[38;5;241m.\u001b[39mgetDashboardByName(\u001b[38;5;124m'\u001b[39m\u001b[38;5;124mactivity stats\u001b[39m\u001b[38;5;124m'\u001b[39m)\n\u001b[0;32m---> 41\u001b[0m widget \u001b[38;5;241m=\u001b[39m \u001b[43mdashboard\u001b[49m\u001b[38;5;241;43m.\u001b[39;49m\u001b[43mgetWidgetByName\u001b[49m\u001b[43m(\u001b[49m\u001b[38;5;124;43m'\u001b[39;49m\u001b[38;5;124;43mactivities\u001b[39;49m\u001b[38;5;124;43m'\u001b[39;49m\u001b[43m)\u001b[49m\n\u001b[1;32m     42\u001b[0m values \u001b[38;5;241m=\u001b[39m widget\u001b[38;5;241m.\u001b[39mretrieveValues()\n\u001b[1;32m     43\u001b[0m values_df \u001b[38;5;241m=\u001b[39m pd\u001b[38;5;241m.\u001b[39mDataFrame(values)\n",
      "File \u001b[0;32m~/Documents/GitHub/processmining/IPMClient/IPMDashboard.py:43\u001b[0m, in \u001b[0;36mDashboard.getWidgetByName\u001b[0;34m(self, name)\u001b[0m\n\u001b[1;32m     42\u001b[0m \u001b[38;5;28;01mdef\u001b[39;00m \u001b[38;5;21mgetWidgetByName\u001b[39m(\u001b[38;5;28mself\u001b[39m, name):\n\u001b[0;32m---> 43\u001b[0m     widgets \u001b[38;5;241m=\u001b[39m \u001b[38;5;28;43mself\u001b[39;49m\u001b[38;5;241;43m.\u001b[39;49m\u001b[43mgetWidgets\u001b[49m\u001b[43m(\u001b[49m\u001b[43m)\u001b[49m\n\u001b[1;32m     44\u001b[0m     \u001b[38;5;28;01mfor\u001b[39;00m widget \u001b[38;5;129;01min\u001b[39;00m widgets:\n\u001b[1;32m     45\u001b[0m         \u001b[38;5;28;01mif\u001b[39;00m widget\u001b[38;5;241m.\u001b[39mname \u001b[38;5;241m==\u001b[39m name:\n",
      "File \u001b[0;32m~/Documents/GitHub/processmining/IPMClient/IPMDashboard.py:40\u001b[0m, in \u001b[0;36mDashboard.getWidgets\u001b[0;34m(self)\u001b[0m\n\u001b[1;32m     38\u001b[0m     \u001b[38;5;28;01mreturn\u001b[39;00m \u001b[38;5;28mself\u001b[39m\u001b[38;5;241m.\u001b[39mwidgets\n\u001b[1;32m     39\u001b[0m \u001b[38;5;28;01melse\u001b[39;00m:\n\u001b[0;32m---> 40\u001b[0m     \u001b[38;5;28;01mreturn\u001b[39;00m \u001b[38;5;28;43mself\u001b[39;49m\u001b[38;5;241;43m.\u001b[39;49m\u001b[43mretrieveWidgets\u001b[49m\u001b[43m(\u001b[49m\u001b[43m)\u001b[49m\n",
      "File \u001b[0;32m~/Documents/GitHub/processmining/IPMClient/IPMDashboard.py:20\u001b[0m, in \u001b[0;36mDashboard.retrieveWidgets\u001b[0;34m(self)\u001b[0m\n\u001b[1;32m     19\u001b[0m \u001b[38;5;28;01mdef\u001b[39;00m \u001b[38;5;21mretrieveWidgets\u001b[39m(\u001b[38;5;28mself\u001b[39m):\n\u001b[0;32m---> 20\u001b[0m     params \u001b[38;5;241m=\u001b[39m {\u001b[38;5;124m'\u001b[39m\u001b[38;5;124morg\u001b[39m\u001b[38;5;124m'\u001b[39m : \u001b[38;5;28;43mself\u001b[39;49m\u001b[38;5;241;43m.\u001b[39;49m\u001b[43mproject\u001b[49m\u001b[38;5;241;43m.\u001b[39;49m\u001b[43morganization\u001b[49m\u001b[38;5;241m.\u001b[39mkey}      \n\u001b[1;32m     21\u001b[0m     headers \u001b[38;5;241m=\u001b[39m \u001b[38;5;28mself\u001b[39m\u001b[38;5;241m.\u001b[39mgetHeaders()\n\u001b[1;32m     22\u001b[0m     url \u001b[38;5;241m=\u001b[39m \u001b[38;5;124m\"\u001b[39m\u001b[38;5;132;01m%s\u001b[39;00m\u001b[38;5;124m/analytics/integration/dashboard/\u001b[39m\u001b[38;5;132;01m%s\u001b[39;00m\u001b[38;5;124m/\u001b[39m\u001b[38;5;132;01m%s\u001b[39;00m\u001b[38;5;124m/list\u001b[39m\u001b[38;5;124m\"\u001b[39m \u001b[38;5;241m%\u001b[39m (\u001b[38;5;28mself\u001b[39m\u001b[38;5;241m.\u001b[39mgetURL(), \u001b[38;5;28mself\u001b[39m\u001b[38;5;241m.\u001b[39mproject\u001b[38;5;241m.\u001b[39mkey, \u001b[38;5;28mself\u001b[39m\u001b[38;5;241m.\u001b[39mid)\n",
      "\u001b[0;31mAttributeError\u001b[0m: 'Project' object has no attribute 'organization'"
     ]
    }
   ],
   "source": [
    "import IPMClient as ipm\n",
    "import pandas as pd\n",
    "import json\n",
    "\n",
    "ipmConfigFilename = './IPMConfig.json'\n",
    "with open(ipmConfigFilename, 'r') as file:\n",
    "    ipmConfig = json.load(file)  \n",
    "\n",
    "ipmClient = ipm.Client(ipmConfig['url'], ipmConfig['userid'], ipmConfig['apikey'])\n",
    "ipmProject = ipmClient.getProjectByName('Bank Account Closure')    \n",
    "stats = ipmProject.retrieveModelStatistics()\n",
    "processStats = ipmProject.getProcessStatistics(stats)\n",
    "processStats_df = pd.json_normalize(processStats)\n",
    "processStats_df.keys()\n",
    "processStats_df = processStats_df[['minThroughputTime',\n",
    "       'maxThroughputTime', 'avgThroughputTime', 'stdThroughputTime',\n",
    "       'medianThroughputTime', 'minArrivalRate', 'maxArrivalRate',\n",
    "       'avgArrivalRate', 'minTime', 'maxTime', 'filteredCases', 'filteredEvents','totalCases', 'totalEvents']]\n",
    "processStats_df.to_csv('processStats.csv', index=None)\n",
    "\n",
    "activityStats = ipmProject.getActivityStatistics(stats)\n",
    "activityStats_df = pd.json_normalize(activityStats)\n",
    "activityStats_df = activityStats_df[['activityName', 'statistics.frequency', 'statistics.avgDuration', 'statistics.medianDuration', 'statistics.minDuration', 'statistics.maxDuration', 'statistics.caseRepetition', 'statistics.avgRepetition', 'statistics.overallCost']]\n",
    "activityStats_df.rename({'statistics.frequency': 'frequency', 'statistics.avgDuration':'avgDuration', 'statistics.medianDuration':'medianDuration', \n",
    "                         'statistics.minDuration':'minDuration', 'statistics.maxDuration':'maxDuration', 'statistics.caseRepetition':'caseRepetition', \n",
    "                         'statistics.avgRepetition':'avgRepetition', 'statistics.overallCost':'overallCost'}, axis='columns', inplace=True)\n",
    "activityStats_df.to_csv('activityStats.csv', index=None)\n",
    "\n",
    "transitionStats = ipmProject.getTransitionStatistics(stats)\n",
    "transitionStats_df = pd.json_normalize(transitionStats)\n",
    "transitionStats_df.keys()\n",
    "transitionStats_df=transitionStats_df[['sourceActivity', 'targetActivity', 'statistics.frequency', 'statistics.avgDuration', 'statistics.medianDuration',\n",
    "                                       'statistics.minDuration','statistics.maxDuration', 'statistics.parallelFrequency','statistics.caseRepetition','statistics.avgRepetition']]\n",
    "transitionStats_df.rename({'statistics.frequency':'frequency', 'statistics.avgDuration':'avgDuration', 'statistics.medianDuration':'medianDuration',\n",
    "                                       'statistics.minDuration':'minDuration','statistics.maxDuration':'maxDuration', \n",
    "                                       'statistics.parallelFrequency':'parallelFrequency','statistics.caseRepetition':'caseRepetition',\n",
    "                                       'statistics.avgRepetition':'avgRepetition'}, axis='columns', inplace=True)\n",
    "transitionStats_df.to_csv('transitionStats.csv', index=None)\n",
    "\n",
    "dashboard = ipmProject.getDashboardByName('activity stats')\n",
    "widget = dashboard.getWidgetByName('activities')\n",
    "values = widget.retrieveValues()\n",
    "values_df = pd.DataFrame(values)\n",
    "values_df.to_csv('acticityStatsFromWidget.csv', index=None)\n",
    "\n",
    "# RETRIEVE DATA USING PSEUDO SQL. Avoid being limited by the number of rows in a widget\n",
    "\n",
    "query = \"SELECT CASEID, leadtime, casecost(), CLOSURE_TYPE, CLOSURE_REASON, COUNTACTIVITIES, COUNTREWORKS FROM EVENTLOG GROUP BY CASEID\"\n",
    "#res = ipmProject.retrieveFromSQL(query)\n",
    "headers = ipmClient.getHeaders()\n",
    "headers['content-type'] = 'application/x-www-form-urlencoded'\n",
    "data = \"params={'query': '%s'}\" % query\n",
    "res = ipmProject.sendPostRequest(\n",
    "            url=f\"{ipmProject.getURL()}/analytics/integration/{ipmProject.key}/query\",\n",
    "            verify=ipmProject.verify,\n",
    "            params={'org' : ipmProject.orgkey},\n",
    "            headers=headers,\n",
    "            data=data,\n",
    "            files=None,\n",
    "            functionName='retrieve from SQL'\n",
    "        )\n",
    "\n",
    "df = pd.DataFrame(res)\n",
    "\n",
    "\n",
    "\n",
    "df = pd.DataFrame(res)\n",
    "df.columns = ['caseid', 'leadtime', 'cost', 'closure_type', 'closure_reason', 'count_activities', 'count_reworks']\n",
    "df.reindex()\n",
    "df['cost'] = df['cost'].apply(lambda x: x[0])\n",
    "df.to_csv('completedCases.csv', index=None)\n"
   ]
  },
  {
   "cell_type": "markdown",
   "metadata": {},
   "source": [
    "## Upload the data into IBM Cognos Analytics\n",
    "\n",
    "The configuration file CognosAnalytics.json includes the URL of the Cognos Analytics api, and how you want to login to create a session.\n",
    "- using the API Login Key\n",
    "- using the namespace / username / password\n"
   ]
  },
  {
   "cell_type": "code",
   "execution_count": null,
   "metadata": {},
   "outputs": [],
   "source": [
    "# Example of credential dict in './CognosAnalytics.json'\n",
    "\n",
    "{\n",
    "    \"url\": \"http://myCognosAnalytics:9300/api/v1/\", \n",
    "    \"CAMAPILoginKey\": \"AWlDNzY5MTJCQzg1MDU0NTQ5OTlFM0Y4ODQ5MzA5NTY4RXiiziKhbFA4nCbGAI0I+AAAAAA\",\n",
    "    \"CAMNamespace\": \"\",\n",
    "    \"CAMUsername\": \"\", \n",
    "    \"CAMPassword\":\"\" \n",
    "}"
   ]
  },
  {
   "cell_type": "code",
   "execution_count": null,
   "metadata": {},
   "outputs": [],
   "source": [
    "import CognosAnalyticsClient as cog\n",
    "import json\n",
    "class dictToObj ():\n",
    "    def __init__(self, aDict):\n",
    "        self.__dict__.update(aDict)\n",
    "\n",
    "cognosConfigFilename = './CognosAnalytics.json'\n",
    "with open(cognosConfigFilename, 'r') as file:\n",
    "    cognosConfig = json.load(file)\n",
    "\n",
    "\n",
    "cognosCredentials =  cog.cognosCreateCredentials(cognosConfig)    \n",
    "auth = cog.cognosCreateSession(cognosConfig['url'], credentials=cognosCredentials)\n",
    "cog.cognosUploadFile(cognosConfig['url'], auth['authkey'], auth['authvalue'], filename='processStats.csv', append=False, silent=False)\n",
    "cog.cognosUploadFile(cognosConfig['url'], auth['authkey'], auth['authvalue'], filename='activityStats.csv', append=False, silent=False)\n",
    "cog.cognosUploadFile(cognosConfig['url'], auth['authkey'], auth['authvalue'], filename='transitionStats.csv', append=False, silent=False)\n",
    "cog.cognosUploadFile(cognosConfig['url'], auth['authkey'], auth['authvalue'], filename='completedCases.csv', append=False, silent=False)\n",
    "cog.cognosUploadFile(cognosConfig['url'], auth['authkey'], auth['authvalue'], filename='activityStatsFromWidget.csv', append=False, silent=False)"
   ]
  }
 ],
 "metadata": {
  "kernelspec": {
   "display_name": "Python 3",
   "language": "python",
   "name": "python3"
  },
  "language_info": {
   "codemirror_mode": {
    "name": "ipython",
    "version": 3
   },
   "file_extension": ".py",
   "mimetype": "text/x-python",
   "name": "python",
   "nbconvert_exporter": "python",
   "pygments_lexer": "ipython3",
   "version": "3.10.5"
  }
 },
 "nbformat": 4,
 "nbformat_minor": 2
}

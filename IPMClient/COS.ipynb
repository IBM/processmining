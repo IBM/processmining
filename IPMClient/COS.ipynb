{
 "cells": [
  {
   "cell_type": "code",
   "execution_count": 1,
   "metadata": {},
   "outputs": [],
   "source": [
    "from ibm_botocore.client import Config\n",
    "import ibm_boto3\n",
    "\n",
    "\n",
    "\n",
    "serviceCredential = {\n",
    "    \"apikey\": \"w_e7iClXZv1L4EZN4OfpGPUsQhKdnR3jgVFhD6uVTcNG\",\n",
    "    \"endpoints\": \"https://control.cloud-object-storage.cloud.ibm.com/v2/endpoints\",\n",
    "    \"iam_apikey_description\": \"Auto-generated for key crn:v1:bluemix:public:cloud-object-storage:global:a/36c46e8f45ad4d8395e2955c8b5a4cf4:cd24c66b-2121-437a-8942-ad6c8f27ca4d:resource-key:8e081733-cf6c-49ba-975f-48fbf6030c2a\",\n",
    "    \"iam_apikey_id\": \"ApiKey-4345baee-6f71-4ad8-a308-b822ea0a8566\",\n",
    "    \"iam_apikey_name\": \"cloud-object-storage-cos-standard-patrickmegard\",\n",
    "    \"iam_role_crn\": \"crn:v1:bluemix:public:iam::::serviceRole:Writer\",\n",
    "    \"iam_serviceid_crn\": \"crn:v1:bluemix:public:iam-identity::a/36c46e8f45ad4d8395e2955c8b5a4cf4::serviceid:ServiceId-c90ea459-1570-4883-831c-f05f9875701b\",\n",
    "    \"resource_instance_id\": \"crn:v1:bluemix:public:cloud-object-storage:global:a/36c46e8f45ad4d8395e2955c8b5a4cf4:cd24c66b-2121-437a-8942-ad6c8f27ca4d::\"\n",
    "}\n",
    "\n",
    "\n",
    "s3 = ibm_boto3.client(\"s3\", ibm_api_key_id=serviceCredential['apikey'],\n",
    "                                ibm_service_instance_id=serviceCredential['resource_instance_id'],\n",
    "                                config=Config(signature_version=\"oauth\"),\n",
    "                                endpoint_url='https://s3.eu-gb.cloud-object-storage.appdomain.cloud'\n",
    ")\n",
    "\n",
    "s3.list_buckets()\n",
    "\n",
    "s3.upload_file(Filename='data/Client Onboarding.idp',Bucket=serviceCredential['iam_apikey_name'],Key='Client Onboarding.idp')"
   ]
  }
 ],
 "metadata": {
  "kernelspec": {
   "display_name": "Python 3",
   "language": "python",
   "name": "python3"
  },
  "language_info": {
   "codemirror_mode": {
    "name": "ipython",
    "version": 3
   },
   "file_extension": ".py",
   "mimetype": "text/x-python",
   "name": "python",
   "nbconvert_exporter": "python",
   "pygments_lexer": "ipython3",
   "version": "3.10.5"
  }
 },
 "nbformat": 4,
 "nbformat_minor": 2
}

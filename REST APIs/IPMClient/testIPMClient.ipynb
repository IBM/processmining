{
 "cells": [
  {
   "cell_type": "code",
   "execution_count": null,
   "metadata": {},
   "outputs": [],
   "source": [
    "import IPMClient as ipm\n",
    "import json\n",
    "import sys\n",
    "import os\n",
    "import pandas as pd\n",
    "\n",
    "\n",
    "getConfigFrom = 'FILE'\n",
    "configFileName = './IPMConfig.json'\n",
    "\n",
    "# update the clienturation with your environment\n",
    "# retrieve from OS variables\n",
    "if getConfigFrom == 'OS':\n",
    "    url :str= os.getenv('PM_API_URL')\n",
    "    userid :str  = os.getenv('PM_API_USER')\n",
    "    apikey :str =os.getenv('PM_API_KEY')\n",
    "elif getConfigFrom == 'VARS':\n",
    "# or update these variables\n",
    "    url = 'PROCESSMININGURL'\n",
    "    userid = 'PROCESSMINGUSERID'\n",
    "    apikey= 'USER_APIKEY'\n",
    "elif getConfigFrom == 'FILE':\n",
    "# or load a file that contains JSON config\n",
    "    with open(configFileName, 'r') as file:\n",
    "        config = json.load(file)\n",
    "        url = config['url']\n",
    "        userid = config['userid']\n",
    "        apikey = config['apikey']\n",
    "\n",
    "client = ipm.Client(url, userid, apikey)\n",
    "client.setTrace(True, 0)"
   ]
  },
  {
   "cell_type": "code",
   "execution_count": null,
   "metadata": {},
   "outputs": [],
   "source": [
    "project = client.getProjectByKey('bank-account-closure')\n",
    "stats = project.retrieveModelStatistics()\n",
    "project.getTransitionStatistics(stats)"
   ]
  },
  {
   "cell_type": "code",
   "execution_count": null,
   "metadata": {},
   "outputs": [],
   "source": [
    "project.getActivityStatistics(stats)"
   ]
  },
  {
   "cell_type": "code",
   "execution_count": null,
   "metadata": {},
   "outputs": [],
   "source": [
    "project.getProcessStatistics(stats)"
   ]
  },
  {
   "cell_type": "code",
   "execution_count": null,
   "metadata": {},
   "outputs": [],
   "source": [
    "project.retrieveDeviations()"
   ]
  },
  {
   "cell_type": "code",
   "execution_count": null,
   "metadata": {},
   "outputs": [],
   "source": [
    "dashboard = project.getDashboardByName('test REST API')\n",
    "widget = dashboard.getWidgetByName('porting-cases-with-deviation')\n",
    "widget.retrieveValues()\n",
    "widget.toDataFrame()\n",
    "widget.toCSV('test-widget-table-1.csv', True)\n"
   ]
  },
  {
   "cell_type": "markdown",
   "metadata": {},
   "source": [
    "## Create a project, load data"
   ]
  },
  {
   "cell_type": "code",
   "execution_count": null,
   "metadata": {},
   "outputs": [],
   "source": [
    "org1 = client.getOrganizationByName('myBank')\n",
    "COProject = client.createProject(name='CO', organization=org1)\n"
   ]
  },
  {
   "cell_type": "code",
   "execution_count": null,
   "metadata": {},
   "outputs": [],
   "source": [
    "\n",
    "COProject.uploadCSVApplyBackupRunMining('./data/Client Onboarding.zip', './data/Client Onboarding.idp')\n"
   ]
  }
 ],
 "metadata": {
  "kernelspec": {
   "display_name": "Python 3",
   "language": "python",
   "name": "python3"
  },
  "language_info": {
   "codemirror_mode": {
    "name": "ipython",
    "version": 3
   },
   "file_extension": ".py",
   "mimetype": "text/x-python",
   "name": "python",
   "nbconvert_exporter": "python",
   "pygments_lexer": "ipython3",
   "version": "3.10.5"
  }
 },
 "nbformat": 4,
 "nbformat_minor": 2
}

{
 "cells": [
  {
   "cell_type": "markdown",
   "metadata": {},
   "source": [
    "# Integrate IBM Process Mining data into IBM Cognos Analytics\n",
    "\n",
    "In most cases, our clients will be using the Dashboard (Analytics) capabilities of IBM Process Mining to broadcast relevant process mining information to managers and employees.\n",
    "\n",
    "They are also typically using extensively a Business Intelligence solution, such as IBM Cognos Analytics, and they can consider that apart from business analysts and process owners, regular employees who are participating in the business process execution should preferably keep using the enterprise BI solution.\n",
    "\n",
    "The following python code shows how we can extract relevant information from IBM Process Mining, and how we can upload this information into IBM Cognos Analytics to create appealing dashboards.\n",
    "\n",
    "The process is the following:\n",
    "\n",
    "- get information from IBM Process Mining by using the IPMClient python library. The information retrieved is a json dict.\n",
    "- transform the json dict into a Pandas dataframe. Sometimes, we need to flatten the json dict and to rename/transform some columns.\n",
    "- save the resulting transformation into a CSV file\n",
    "- upload the CSV file into IBM Cognos Analytics by using the cognos python library\n",
    "\n",
    "## Get the data from Process Mining\n"
   ]
  },
  {
   "cell_type": "code",
   "execution_count": 2,
   "metadata": {},
   "outputs": [
    {
     "name": "stdout",
     "output_type": "stream",
     "text": [
      "--Process Mining: REST API called for: get token : status code : 200\n",
      "--Process Mining: REST API called for: retrieve projects : status code : 200\n",
      "--Process Mining: REST API called for: retrieve model-statistics : status code : 200\n",
      "--Process Mining: REST API called for: retrieve dashboards : status code : 200\n",
      "--Process Mining: REST API called for: retrieve widgets : status code : 200\n",
      "--Process Mining: REST API called for: retrieve widget values : status code : 200\n"
     ]
    }
   ],
   "source": [
    "import IPMClient as ipm\n",
    "import pandas as pd\n",
    "import json\n",
    "\n",
    "ipmConfigFilename = './IPMConfig.json'\n",
    "with open(ipmConfigFilename, 'r') as file:\n",
    "    ipmConfig = json.load(file)  \n",
    "\n",
    "client = ipm.Client(ipmConfig['url'], ipmConfig['userid'], ipmConfig['apikey'])\n",
    "project = client.getProjectByName('Bank Account Closure')\n",
    "\n",
    "stats = project.retrieveModelStatistics()\n",
    "activityStats = project.getActivityStatistics(stats)\n",
    "activityStats_df = pd.json_normalize(activityStats)\n",
    "activityStats_df = activityStats_df[['activityName', 'statistics.frequency', 'statistics.avgDuration', 'statistics.medianDuration', 'statistics.minDuration', 'statistics.maxDuration', 'statistics.caseRepetition', 'statistics.avgRepetition', 'statistics.overallCost']]\n",
    "activityStats_df.rename({'statistics.frequency': 'frequency', 'statistics.avgDuration':'avgDuration', 'statistics.medianDuration':'medianDuration', \n",
    "                         'statistics.minDuration':'minDuration', 'statistics.maxDuration':'maxDuration', 'statistics.caseRepetition':'caseRepetition', \n",
    "                         'statistics.avgRepetition':'avgRepetition', 'statistics.overallCost':'overallCost'}, axis='columns', inplace=True)\n",
    "activityStats_df.to_csv('activityStats.csv', index=None)\n",
    "\n",
    "transitionStats = project.getTransitionStatistics(stats)\n",
    "transitionStats_df = pd.json_normalize(transitionStats)\n",
    "transitionStats_df.keys()\n",
    "transitionStats_df=transitionStats_df[['sourceActivity', 'targetActivity', 'statistics.frequency', 'statistics.avgDuration', 'statistics.medianDuration',\n",
    "                                       'statistics.minDuration','statistics.maxDuration', 'statistics.parallelFrequency','statistics.caseRepetition','statistics.avgRepetition']]\n",
    "transitionStats_df.rename({'statistics.frequency':'frequency', 'statistics.avgDuration':'avgDuration', 'statistics.medianDuration':'medianDuration',\n",
    "                                       'statistics.minDuration':'minDuration','statistics.maxDuration':'maxDuration', \n",
    "                                       'statistics.parallelFrequency':'parallelFrequency','statistics.caseRepetition':'caseRepetition',\n",
    "                                       'statistics.avgRepetition':'avgRepetition'}, axis='columns', inplace=True)\n",
    "transitionStats_df.to_csv('transitionStats.csv', index=None)\n",
    "\n",
    "dashboard = project.getDashboardByName('Clean The Pipe')\n",
    "widgets = dashboard.getWidgets()\n",
    "df = pd.DataFrame(widgets[0].retrieveValues())\n",
    "df.to_csv('blocked_at_pending_liquidation_request.csv', index=None)"
   ]
  },
  {
   "cell_type": "markdown",
   "metadata": {},
   "source": [
    "## Upload the data into IBM Cognos Analytics\n",
    "\n",
    "The configuration file CognosAnalytics.json includes the URL of the Cognos Analytics api, and how you want to login to create a session.\n",
    "- using the API Login Key\n",
    "- using the namespace / username / password\n"
   ]
  },
  {
   "cell_type": "code",
   "execution_count": null,
   "metadata": {},
   "outputs": [],
   "source": [
    "# Example of credential dict in './CognosAnalytics.json'\n",
    "\n",
    "{\n",
    "    \"url\": \"http://myCognosAnalytics:9300/api/v1/\", \n",
    "    \"CAMAPILoginKey\": \"AWlDNzY5MTJCQzg1MDU0NTQ5OTlFM0Y4ODQ5MzA5NTY4RXiiziKhbFA4nCbGAI0I+AAAAAA\",\n",
    "    \"CAMNamespace\": \"\",\n",
    "    \"CAMUsername\": \"\", \n",
    "    \"CAMPassword\":\"\" \n",
    "}"
   ]
  },
  {
   "cell_type": "code",
   "execution_count": 3,
   "metadata": {},
   "outputs": [
    {
     "name": "stdout",
     "output_type": "stream",
     "text": [
      "Creating a session and grabbing session_key or XSRF token...\n",
      "Session creation successful...\n",
      "completedCasesDates.csv\n",
      "completedCasesBizData.csv\n",
      "1/4 Create the upload file object for the new upload file and grab the segment id...\n",
      "File upload started ok...\n",
      "File upload: import path = /api/v1/files/import/segment/1717144588819\n",
      "File upload: segment = /files/import/segment/1717144588819\n",
      "2/4 Upload file data...\n",
      "reading local file activityStats.csv for upload, may take some time...\n",
      "file read.  uploading file data...\n",
      "file upload started ok...\n",
      "3/4 uploading end of file flag & grabbing task id...\n",
      "file upload started ok...\n",
      "uploadResponse status code = 202\n",
      "{\"href\":\"/tasks/task121716985444163\",\"taskID\":\"task121716985444163\"}\n",
      "uploadResponse = {'href': '/tasks/task121716985444163', 'taskID': 'task121716985444163'}\n",
      "task id url = /tasks/task121716985444163\n",
      "4/4 checking for upload completion status......\n",
      "file upload successful!  exiting...\n",
      "completedCasesDates.csv\n",
      "completedCasesBizData.csv\n",
      "activityStats.csv\n",
      "1/4 Create the upload file object for the new upload file and grab the segment id...\n",
      "File upload started ok...\n",
      "File upload: import path = /api/v1/files/import/segment/1716733144472\n",
      "File upload: segment = /files/import/segment/1716733144472\n",
      "2/4 Upload file data...\n",
      "reading local file blocked_at_pending_liquidation_request.csv for upload, may take some time...\n",
      "file read.  uploading file data...\n",
      "file upload started ok...\n",
      "3/4 uploading end of file flag & grabbing task id...\n",
      "file upload started ok...\n",
      "uploadResponse status code = 202\n",
      "{\"href\":\"/tasks/task131716985448236\",\"taskID\":\"task131716985448236\"}\n",
      "uploadResponse = {'href': '/tasks/task131716985448236', 'taskID': 'task131716985448236'}\n",
      "task id url = /tasks/task131716985448236\n",
      "4/4 checking for upload completion status......\n",
      "file upload successful!  exiting...\n"
     ]
    }
   ],
   "source": [
    "import CognosAnalyticsClient as cog\n",
    "import json\n",
    "class dictToObj ():\n",
    "    def __init__(self, aDict):\n",
    "        self.__dict__.update(aDict)\n",
    "\n",
    "cognosConfigFilename = './CognosAnalytics.json'\n",
    "with open(cognosConfigFilename, 'r') as file:\n",
    "    cognosConfig = json.load(file)\n",
    "\n",
    "\n",
    "cognosCredentials =  cog.cognosCreateCredentials(cognosConfig)    \n",
    "auth = cog.cognosCreateSession(cognosConfig['url'], credentials=cognosCredentials)\n",
    "cog.cognosUploadFile(cognosConfig['url'], auth['authkey'], auth['authvalue'], filename='activityStats.csv', append=False, silent=False)\n",
    "cog.cognosUploadFile(cognosConfig['url'], auth['authkey'], auth['authvalue'], filename='blocked_at_pending_liquidation_request.csv', append=False, silent=False)\n"
   ]
  }
 ],
 "metadata": {
  "kernelspec": {
   "display_name": "Python 3",
   "language": "python",
   "name": "python3"
  },
  "language_info": {
   "codemirror_mode": {
    "name": "ipython",
    "version": 3
   },
   "file_extension": ".py",
   "mimetype": "text/x-python",
   "name": "python",
   "nbconvert_exporter": "python",
   "pygments_lexer": "ipython3",
   "version": "3.10.5"
  }
 },
 "nbformat": 4,
 "nbformat_minor": 2
}

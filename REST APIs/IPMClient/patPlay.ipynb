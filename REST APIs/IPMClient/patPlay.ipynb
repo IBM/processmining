{
 "cells": [
  {
   "cell_type": "code",
   "execution_count": null,
   "metadata": {},
   "outputs": [],
   "source": [
    "import IPMClient as ipm\n",
    "import pandas as pd\n",
    "import json\n",
    "\n",
    "ipmConfigFilename = './IPMConfig.json'\n",
    "with open(ipmConfigFilename, 'r') as file:\n",
    "    ipmConfig = json.load(file)  \n",
    "\n",
    "ipmClient = ipm.Client(ipmConfig['url'], ipmConfig['userid'], ipmConfig['apikey'])\n",
    "ipmProject = ipmClient.getProjectByName('Bank Account Closure')   \n",
    "\n",
    "\n",
    "# RETRIEVE DATA USING PSEUDO SQL. Avoid being limited by the number of rows in a widget\n",
    "\n",
    "query = \"SELECT CASEID, MIN(starttime), leadtime FROM EVENTLOG GROUP BY CASEID\"\n",
    "#res = ipmProject.retrieveFromSQL(query)\n",
    "headers = ipmClient.getHeaders()\n",
    "headers['content-type'] = 'application/x-www-form-urlencoded'\n",
    "data = \"params={'query': '%s'}\" % query\n",
    "res = ipmProject.sendPostRequest(\n",
    "            url=f\"{ipmProject.getURL()}/analytics/integration/{ipmProject.key}/query\",\n",
    "            verify=ipmProject.verify,\n",
    "            params={'org' : ipmProject.orgkey},\n",
    "            headers=headers,\n",
    "            data=data,\n",
    "            files=None,\n",
    "            functionName='retrieve from SQL'\n",
    "        )\n",
    "\n",
    "\n",
    "df = pd.DataFrame(res)\n",
    "df.columns = ['caseid', 'startdate', 'leadtime']\n",
    "df.reindex()\n"
   ]
  },
  {
   "cell_type": "code",
   "execution_count": null,
   "metadata": {},
   "outputs": [],
   "source": [
    "df"
   ]
  },
  {
   "cell_type": "code",
   "execution_count": null,
   "metadata": {},
   "outputs": [],
   "source": [
    "\n",
    "from datetime import datetime as dt\n",
    "df2 = df.copy()\n",
    "df2['startdate']=df2['startdate'].apply(lambda x: dt.fromtimestamp(x[0]/1000))\n",
    "df2['startdate']=df2['startdate'].apply(lambda x: x.replace(day=1, hour=0, minute=0, second=0)\n",
    ")\n",
    "df2\n",
    "df2.to_csv('completedCasesDates.csv', index=None)"
   ]
  },
  {
   "cell_type": "code",
   "execution_count": null,
   "metadata": {},
   "outputs": [],
   "source": [
    "import IPMClient as ipm\n",
    "import pandas as pd\n",
    "import json\n",
    "\n",
    "ipmConfigFilename = './IPMConfig.json'\n",
    "with open(ipmConfigFilename, 'r') as file:\n",
    "    ipmConfig = json.load(file)  \n",
    "\n",
    "ipmClient = ipm.Client(ipmConfig['url'], ipmConfig['userid'], ipmConfig['apikey'])\n",
    "ipmProject = ipmClient.getProjectByName('Bank Account Closure')   \n",
    "query = \"SELECT CASEID, CLOSURE_TYPE, CLOSURE_REASON FROM EVENTLOG GROUP BY CASEID\"\n",
    "headers = ipmClient.getHeaders()\n",
    "headers['content-type'] = 'application/x-www-form-urlencoded'\n",
    "data = \"params={'query': '%s'}\" % query\n",
    "res = ipmProject.sendPostRequest(\n",
    "            url=f\"{ipmProject.getURL()}/analytics/integration/{ipmProject.key}/query\",\n",
    "            verify=ipmProject.verify,\n",
    "            params={'org' : ipmProject.orgkey},\n",
    "            headers=headers,\n",
    "            data=data,\n",
    "            files=None,\n",
    "            functionName='retrieve from SQL'\n",
    "        )\n",
    "\n",
    "\n",
    "df = pd.DataFrame(res)\n",
    "df.columns = ['caseid', 'closure_type', 'closure_reason']\n",
    "df.reindex()"
   ]
  },
  {
   "cell_type": "code",
   "execution_count": null,
   "metadata": {},
   "outputs": [],
   "source": [
    "df.to_csv('completedCasesBizData.csv', index=None)"
   ]
  },
  {
   "cell_type": "code",
   "execution_count": null,
   "metadata": {},
   "outputs": [],
   "source": [
    "import CognosAnalyticsClient as cog\n",
    "import json\n",
    "\n",
    "cognosConfigFilename = './CognosAnalytics.json'\n",
    "with open(cognosConfigFilename, 'r') as file:\n",
    "    cognosConfig = json.load(file)\n",
    "\n",
    "\n",
    "cognosCredentials =  cog.cognosCreateCredentials(cognosConfig)    \n",
    "auth = cog.cognosCreateSession(cognosConfig['url'], credentials=cognosCredentials)\n",
    "cog.cognosUploadFile(cognosConfig['url'], auth['authkey'], auth['authvalue'], filename='completedCasesStartDate.csv', append=False, silent=False)"
   ]
  },
  {
   "cell_type": "markdown",
   "metadata": {},
   "source": [
    "# PREPARE TECHZONE FOR WORKSHOP\n",
    "- delete CO that is not in an organization\n",
    "- get Finance organization\n",
    "- create CO project and load data\n",
    "- create users: user1, user2, ... \n",
    "- add users to permission groups\n",
    "- add users to Finance organization\n"
   ]
  },
  {
   "cell_type": "code",
   "execution_count": null,
   "metadata": {},
   "outputs": [],
   "source": [
    "import IPMClient as ipm\n",
    "import pandas as pd\n",
    "import json\n",
    "\n",
    "\n",
    "ipmConfig = {\n",
    "    \"url\":\"https://useast.services.cloud.techzone.ibm.com:27464\",\n",
    "    \"userid\":\"maintenance.admin\",\n",
    "    \"apikey\":\"k0rea0pg4c6ro2nq\"\n",
    "}\n",
    "ipmClient = ipm.Client(ipmConfig['url'], ipmConfig['userid'], ipmConfig['apikey'])\n",
    "org = ipmClient.getOrganizationByName('Finance')\n"
   ]
  },
  {
   "cell_type": "code",
   "execution_count": null,
   "metadata": {},
   "outputs": [],
   "source": [
    "import IPMClient as ipm\n",
    "import pandas as pd\n",
    "import json\n",
    "\n",
    "ipmConfigFilename = './IPMConfig.json'\n",
    "with open(ipmConfigFilename, 'r') as file:\n",
    "    ipmConfig = json.load(file)  \n",
    "\n",
    "ipmClient = ipm.Client(ipmConfig['url'], ipmConfig['userid'], ipmConfig['apikey'])\n",
    "ipmClient.getLocalOrganization()"
   ]
  },
  {
   "cell_type": "code",
   "execution_count": null,
   "metadata": {},
   "outputs": [],
   "source": [
    "import IPMClient as ipm\n",
    "import pandas as pd\n",
    "import json\n",
    "\n",
    "ipmConfigFilename = './IPMConfig.json'\n",
    "with open(ipmConfigFilename, 'r') as file:\n",
    "    ipmConfig = json.load(file)  \n",
    "\n",
    "ipmClient = ipm.Client(ipmConfig['url'], ipmConfig['userid'], ipmConfig['apikey'])\n",
    "proj = ipmClient.getProjectByName('Bank Account Closure')\n",
    "dashboard = proj.getDashboardByName('Clean The Pipe')\n",
    "widgets = dashboard.getWidgets()\n",
    "df = pd.DataFrame(widgets[0].retrieveValues())\n",
    "df.to_csv('blocked_at_pending_liquidation_request.csv', index=None)"
   ]
  },
  {
   "cell_type": "code",
   "execution_count": 1,
   "metadata": {},
   "outputs": [],
   "source": [
    "users = [\n",
    "    {\"firstName\": \"User1\",\n",
    "    \"lastName\": \"Lab\",\n",
    "    \"country\": \"FR\",\n",
    "    \"email\": \"User1.Lab@ibm.com\",\n",
    "    \"agentEnabled\": True,\n",
    "    \"technicalUser\": False,\n",
    "    \"active\": True,\n",
    "    \"password\": \"Passw0rd!\",\n",
    "    \"username\": \"user1.lab\"},\n",
    "    {\"firstName\": \"User2\",\n",
    "    \"lastName\": \"Lab\",\n",
    "    \"country\": \"FR\",\n",
    "    \"email\": \"User2.Lab@ibm.com\",\n",
    "    \"agentEnabled\": True,\n",
    "    \"technicalUser\": False,\n",
    "    \"active\": True,\n",
    "    \"password\": \"Passw0rd!\",\n",
    "    \"username\": \"user2.lab\"},\n",
    "    {\"firstName\": \"User3\",\n",
    "    \"lastName\": \"Lab\",\n",
    "    \"country\": \"FR\",\n",
    "    \"email\": \"User3.Lab@ibm.com\",\n",
    "    \"agentEnabled\": True,\n",
    "    \"technicalUser\": False,\n",
    "    \"active\": True,\n",
    "    \"password\": \"Passw0rd!\",\n",
    "    \"username\": \"user3.lab\"},\n",
    "    {\"firstName\": \"User4\",\n",
    "    \"lastName\": \"Lab\",\n",
    "    \"country\": \"FR\",\n",
    "    \"email\": \"User4.Lab@ibm.com\",\n",
    "    \"agentEnabled\": True,\n",
    "    \"technicalUser\": False,\n",
    "    \"active\": True,\n",
    "    \"password\": \"Passw0rd!\",\n",
    "    \"username\": \"user4.lab\"},\n",
    "    {\"firstName\": \"User5\",\n",
    "    \"lastName\": \"Lab\",\n",
    "    \"country\": \"FR\",\n",
    "    \"email\": \"User5.Lab@ibm.com\",\n",
    "    \"agentEnabled\": True,\n",
    "    \"technicalUser\": False,\n",
    "    \"active\": True,\n",
    "    \"password\": \"Passw0rd!\",\n",
    "    \"username\": \"user5.lab\"},\n",
    "    {\"firstName\": \"User6\",\n",
    "    \"lastName\": \"Lab\",\n",
    "    \"country\": \"FR\",\n",
    "    \"email\": \"User6.Lab@ibm.com\",\n",
    "    \"agentEnabled\": True,\n",
    "    \"technicalUser\": False,\n",
    "    \"active\": True,\n",
    "    \"password\": \"Passw0rd!\",\n",
    "    \"username\": \"user6.lab\"},\n",
    "    {\"firstName\": \"User7\",\n",
    "    \"lastName\": \"Lab\",\n",
    "    \"country\": \"FR\",\n",
    "    \"email\": \"User7.Lab@ibm.com\",\n",
    "    \"agentEnabled\": True,\n",
    "    \"technicalUser\": False,\n",
    "    \"active\": True,\n",
    "    \"password\": \"Passw0rd!\",\n",
    "    \"username\": \"user7.lab\"}\n",
    "    ]"
   ]
  },
  {
   "cell_type": "code",
   "execution_count": 9,
   "metadata": {},
   "outputs": [],
   "source": [
    "import pandas as pd\n",
    "\n",
    "df = pd.DataFrame(users)\n",
    "df.to_csv('users_to_add.csv', index=None)"
   ]
  },
  {
   "cell_type": "code",
   "execution_count": 10,
   "metadata": {},
   "outputs": [
    {
     "name": "stdout",
     "output_type": "stream",
     "text": [
      "--Process Mining: REST API called for: get token : status code : 200\n",
      "--Process Mining: REST API called for: retrieve groups : status code : 200\n",
      "--Process Mining: REST API called for: retrieve organizations : status code : 200\n",
      "--Process Mining: REST API called for: retrieve projects : status code : 200\n",
      "--Process Mining: REST API called for: retrieve tenants : status code : 200\n",
      "--Process Mining: REST API called for: retrieve accounts : status code : 200\n",
      "--Process Mining: REST API called for: create account : status code : 200\n",
      "--Process Mining: REST API called for: add account to group : status code : 200\n",
      "--Process Mining: REST API called for: retrieve accounts : status code : 200\n",
      "--Process Mining: REST API called for: add account to organization : status code : 200\n",
      "--Process Mining: REST API called for: create account : status code : 200\n",
      "--Process Mining: REST API called for: add account to group : status code : 200\n",
      "--Process Mining: REST API called for: add account to organization : status code : 200\n",
      "--Process Mining: REST API called for: create account : status code : 200\n",
      "--Process Mining: REST API called for: add account to group : status code : 200\n",
      "--Process Mining: REST API called for: add account to organization : status code : 200\n",
      "--Process Mining: REST API called for: create account : status code : 200\n",
      "--Process Mining: REST API called for: add account to group : status code : 200\n",
      "--Process Mining: REST API called for: add account to organization : status code : 200\n",
      "--Process Mining: REST API called for: create account : status code : 200\n",
      "--Process Mining: REST API called for: add account to group : status code : 200\n",
      "--Process Mining: REST API called for: add account to organization : status code : 200\n",
      "--Process Mining: REST API called for: create account : status code : 200\n",
      "--Process Mining: REST API called for: add account to group : status code : 200\n",
      "--Process Mining: REST API called for: add account to organization : status code : 200\n",
      "--Process Mining: REST API called for: create account : status code : 200\n",
      "--Process Mining: REST API called for: add account to group : status code : 200\n",
      "--Process Mining: REST API called for: add account to organization : status code : 200\n"
     ]
    }
   ],
   "source": [
    "import IPMClient as ipm\n",
    "import json\n",
    "import pandas as pd\n",
    "# read CSV file that contains the user data\n",
    "df = pd.read_csv('users_to_add.csv')\n",
    "users = json.loads(df.to_json(orient=\"records\"))\n",
    "\n",
    "# create the Process Mining client\n",
    "ipmConfigFilename = './IPMConfig.json'\n",
    "with open(ipmConfigFilename, 'r') as file:\n",
    "    ipmConfig = json.load(file)  \n",
    "ipmClient = ipm.Client(ipmConfig['url'], ipmConfig['userid'], ipmConfig['apikey'])\n",
    "\n",
    "## Manage users\n",
    "owners = ipmClient.getGroupByName('Owners')\n",
    "org = ipmClient.getOrganizationByName('Finance')\n",
    "\n",
    "for user in users:\n",
    "    account = ipmClient.createAccount(user)\n",
    "    ipmClient.addAccountToGroup(account, owners['groupId'])\n",
    "    org.addAccount(account)"
   ]
  },
  {
   "cell_type": "code",
   "execution_count": 16,
   "metadata": {},
   "outputs": [
    {
     "name": "stdout",
     "output_type": "stream",
     "text": [
      "--Process Mining: REST API called for: delete account : status code : 200\n",
      "--Process Mining: REST API called for: delete account : status code : 200\n",
      "--Process Mining: REST API called for: delete account : status code : 200\n",
      "--Process Mining: REST API called for: delete account : status code : 200\n",
      "--Process Mining: REST API called for: delete account : status code : 200\n",
      "--Process Mining: REST API called for: delete account : status code : 200\n",
      "--Process Mining: REST API called for: delete account : status code : 200\n"
     ]
    }
   ],
   "source": [
    "for user in users:\n",
    "    ipmClient.deleteAccount(ipmClient.getAccountByUserName(user['username']))"
   ]
  }
 ],
 "metadata": {
  "kernelspec": {
   "display_name": "Python 3",
   "language": "python",
   "name": "python3"
  },
  "language_info": {
   "codemirror_mode": {
    "name": "ipython",
    "version": 3
   },
   "file_extension": ".py",
   "mimetype": "text/x-python",
   "name": "python",
   "nbconvert_exporter": "python",
   "pygments_lexer": "ipython3",
   "version": "3.10.5"
  }
 },
 "nbformat": 4,
 "nbformat_minor": 2
}
